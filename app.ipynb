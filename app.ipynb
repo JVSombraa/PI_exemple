{
 "cells": [
  {
   "cell_type": "markdown",
   "id": "841b13eb",
   "metadata": {},
   "source": [
    "### Introdução"
   ]
  },
  {
   "cell_type": "markdown",
   "id": "9c4bcc9d",
   "metadata": {},
   "source": [
    "Para executar os algoritmos, instale o \"PythonMip\": "
   ]
  },
  {
   "cell_type": "code",
   "execution_count": null,
   "id": "2c3e3fa2",
   "metadata": {},
   "outputs": [],
   "source": [
    "pip install mip"
   ]
  },
  {
   "cell_type": "markdown",
   "id": "54dac1c6",
   "metadata": {},
   "source": [
    "Agora para visualizar os grafos utilizando o Graphviz:\n",
    " - No Windows: Execute o .exe dentro da pasta \"GraphViz\" para realizar a instalação.\n",
    " - No Linux: Execute o seguinte comando em seu terminal: sudo apt install graphviz"
   ]
  },
  {
   "cell_type": "markdown",
   "id": "972616f1",
   "metadata": {},
   "source": [
    "Em caso de dúvidas, consultar documentação oficial do [GraphViz](https://graphviz.org) ou [PythonMip](https://www.python-mip.com)."
   ]
  },
  {
   "cell_type": "markdown",
   "id": "6665fd0a",
   "metadata": {},
   "source": [
    "### Mochila 0-1"
   ]
  },
  {
   "cell_type": "markdown",
   "id": "ca1a961f",
   "metadata": {},
   "source": [
    "Dado um conjunto de itens, cada um com peso e valor, escolher um subconjunto que maximize o valor total sem ultrapassar a capacidade da mochila."
   ]
  },
  {
   "cell_type": "markdown",
   "id": "fa4c84a5",
   "metadata": {},
   "source": [
    "$$\n",
    "    \\begin{aligned} \n",
    "        \\text{max} \\quad \n",
    "            & \\sum_{i \\in V}{v_i * x_i}\n",
    "        \\\\ \n",
    "        \\text{s. t} \\quad \n",
    "            & \\quad \\sum_{i \\in V}{p_i * x_i} \\leq m \\\\\n",
    "            \\\\\n",
    "            & \\quad x_i \\in \\{0,1\\} \\quad ,\\forall i \\in V\n",
    "    \\end{aligned}\n",
    "$$"
   ]
  },
  {
   "cell_type": "code",
   "execution_count": 1,
   "id": "5f029380",
   "metadata": {},
   "outputs": [
    {
     "name": "stdout",
     "output_type": "stream",
     "text": [
      "\n",
      "Valor ótimo: 41.0\n",
      "Itens selecionados:\n",
      " Item 0: Valor=10, Peso=11\n",
      " Item 3: Valor=31, Peso=35\n"
     ]
    }
   ],
   "source": [
    "from mip import Model, xsum, BINARY, OptimizationStatus\n",
    "\n",
    "# Dados do problema\n",
    "valores = [10, 13, 18, 31, 7, 15]\n",
    "pesos = [11, 15, 20, 35, 10, 33]\n",
    "capacidade = 47\n",
    "n = len(valores)\n",
    "\n",
    "# Criação do modelo\n",
    "m = Model(\"Mochila 0-1\", sense='MAX', solver_name='CBC')\n",
    "\n",
    "# Definição de variáveis\n",
    "x = [m.add_var(var_type=BINARY, name=f\"x{i}\") for i in range(n)]\n",
    "\n",
    "# Função objetivo\n",
    "m.objective = xsum(valores[i] * x[i] for i in range(n))\n",
    "\n",
    "# Restrições\n",
    "m += xsum(pesos[i] * x[i] for i in range(n)) <= capacidade\n",
    "\n",
    "# Resolver o modelo\n",
    "m.optimize()\n",
    "m.write('files/mochila_0-1.lp')\n",
    "\n",
    "# Exibir resultado\n",
    "if m.status == OptimizationStatus.OPTIMAL:\n",
    "    print(f\"\\nValor ótimo: {m.objective_value}\")\n",
    "    print(\"Itens selecionados:\")\n",
    "    for i in range(n):\n",
    "        if x[i].x >= 0.99:\n",
    "            print(f\" Item {i}: Valor={valores[i]}, Peso={pesos[i]}\")\n",
    "else:\n",
    "    print(\"Não foi encontrada uma solução ótima.\")"
   ]
  },
  {
   "cell_type": "markdown",
   "id": "a4797b77",
   "metadata": {},
   "source": [
    "### Caminho mínimo"
   ]
  },
  {
   "cell_type": "markdown",
   "id": "252a93c8",
   "metadata": {},
   "source": [
    "Dado um grafo ponderado (sem arestas negativas), escolher o caminho de S à T com menor custo."
   ]
  },
  {
   "cell_type": "markdown",
   "id": "bc241398",
   "metadata": {},
   "source": [
    "$$\n",
    "\t\\begin{aligned} \n",
    "\t\t\\text{min} \\quad \n",
    "\t\t\t& \\sum_{pq \\in A}{w_{pq}f_{pq}}\n",
    "\t\t\\\\ \n",
    "\t\t\\text{s. t} \\quad \n",
    "\t\t\t& \\sum_{p \\in V:(p,q) \\in A}{x_{pq}} - \\sum_{p \\in V:(q,p) \\in A}{x_{qp}} = \n",
    "\t\t\t\\begin{cases}\n",
    "\t\t\t\t& -1 \\quad ,\\text{se } q=s \\\\\n",
    "\t\t\t\t& 1 \\quad , \\text{se } q=t \\\\\n",
    "\t\t\t\t& 0 \\quad , \\text{c.c}\n",
    "\t\t\t\\end{cases}\n",
    "\t\t\t\\quad \\forall q \\in V \\\\\n",
    "\t\t\t& x_{pq} \\in \\left\\{ 0,1 \\right\\} \\quad ,\\forall (p,q) \\in A\n",
    "\t  \\end{aligned}\n",
    "\t$$"
   ]
  },
  {
   "cell_type": "code",
   "execution_count": null,
   "id": "99e4a675",
   "metadata": {},
   "outputs": [],
   "source": [
    "from mip import Model, xsum, BINARY, OptimizationStatus\n",
    "\n",
    "def caminho_minimo(graph, source, target):\n",
    "    # Receber variáveis\n",
    "    vertices = set(i for i, _, _ in graph).union(j for _, j, _ in graph)\n",
    "\n",
    "    # Criação do modelo\n",
    "    m = Model(\"Shortest Path Problem\", sense='MIN', solver_name='CBC')\n",
    "\n",
    "    # Definição de variáveis\n",
    "    x = {(i,j): m.add_var(var_type=BINARY, name=f\"x_{i,j}\") for i, j, _ in graph}\n",
    "\n",
    "    # Função objetivo\n",
    "    m.objective = xsum(weight * x[i, j] for i, j, weight in graph)\n",
    "\n",
    "    # Restrições\n",
    "    for v in vertices:\n",
    "        inflow = xsum(x[i,v] for i, j, _ in graph if j == v)\n",
    "        outflow = xsum(x[v,j] for i, j, _ in graph if i == v)\n",
    "\n",
    "        if v == source:\n",
    "            m += (inflow - outflow == -1, f\"flow_conservation_{v}\")\n",
    "        elif v == target:\n",
    "            m += (inflow - outflow == 1, f\"flow_conservation_{v}\")\n",
    "        else:\n",
    "            m += (inflow - outflow == 0, f\"flow_conservation_{v}\")\n",
    "\n",
    "    # Resolver o modelo\n",
    "    m.optimize()\n",
    "    m.write('files/caminho_minimo.lp')\n",
    "\n",
    "    # Exibir resultado\n",
    "    if m.status == OptimizationStatus.OPTIMAL:\n",
    "        selected_edges = [(i,j,w) for i, j, w in graph if x[i,j].x > 0.99]\n",
    "        return m.objective_value, selected_edges\n",
    "    else:\n",
    "        print(\"Não foi encontrada uma solução ótima.\")\n",
    "        return 0,0"
   ]
  },
  {
   "cell_type": "code",
   "execution_count": 13,
   "id": "3b056dd2",
   "metadata": {},
   "outputs": [
    {
     "name": "stdout",
     "output_type": "stream",
     "text": [
      "Valor ótimo:  61.0\n",
      "Arestas escolhidas:  [(0, 1, 15), (1, 2, 8), (2, 5, 38)]\n"
     ]
    }
   ],
   "source": [
    "grafo = [\n",
    "(0,1,15),\n",
    "(0,3,38),\n",
    "(0,5,73),\n",
    "(1,2,8),\n",
    "(2,0,93),\n",
    "(2,1,52),\n",
    "(2,3,22),\n",
    "(2,4,77),\n",
    "(2,5,38),\n",
    "(3,0,27),\n",
    "(3,4,13),\n",
    "(4,0,63),\n",
    "(4,1,96),\n",
    "(4,2,73),\n",
    "(4,3,70),\n",
    "(4,5,14),\n",
    "(5,1,67),\n",
    "(5,2,44),\n",
    "(5,3,69),\n",
    "(5,4,82)\n",
    "]\n",
    "\n",
    "v_otimo, edges = caminho_minimo(grafo, 0, 5)\n",
    "print(\"Valor ótimo: \", v_otimo)\n",
    "print(\"Arestas escolhidas: \", edges)"
   ]
  },
  {
   "cell_type": "markdown",
   "id": "584d922b",
   "metadata": {},
   "source": [
    "##### Ver grafo"
   ]
  },
  {
   "cell_type": "code",
   "execution_count": 14,
   "id": "b80b49b0",
   "metadata": {},
   "outputs": [
    {
     "data": {
      "image/svg+xml": [
       "<?xml version=\"1.0\" encoding=\"UTF-8\" standalone=\"no\"?>\n",
       "<!DOCTYPE svg PUBLIC \"-//W3C//DTD SVG 1.1//EN\"\n",
       " \"http://www.w3.org/Graphics/SVG/1.1/DTD/svg11.dtd\">\n",
       "<!-- Generated by graphviz version 12.2.1 (20241206.2353)\n",
       " -->\n",
       "<!-- Pages: 1 -->\n",
       "<svg width=\"62pt\" height=\"310pt\"\n",
       " viewBox=\"0.00 0.00 62.00 309.50\" xmlns=\"http://www.w3.org/2000/svg\" xmlns:xlink=\"http://www.w3.org/1999/xlink\">\n",
       "<g id=\"graph0\" class=\"graph\" transform=\"scale(1 1) rotate(0) translate(4 305.5)\">\n",
       "<polygon fill=\"white\" stroke=\"none\" points=\"-4,4 -4,-305.5 58,-305.5 58,4 -4,4\"/>\n",
       "<!-- 0 -->\n",
       "<g id=\"node1\" class=\"node\">\n",
       "<title>0</title>\n",
       "<ellipse fill=\"none\" stroke=\"black\" cx=\"27\" cy=\"-283.5\" rx=\"27\" ry=\"18\"/>\n",
       "<text text-anchor=\"middle\" x=\"27\" y=\"-278.45\" font-family=\"Times New Roman,serif\" font-size=\"14.00\">0</text>\n",
       "</g>\n",
       "<!-- 1 -->\n",
       "<g id=\"node2\" class=\"node\">\n",
       "<title>1</title>\n",
       "<ellipse fill=\"none\" stroke=\"black\" cx=\"27\" cy=\"-195\" rx=\"27\" ry=\"18\"/>\n",
       "<text text-anchor=\"middle\" x=\"27\" y=\"-189.95\" font-family=\"Times New Roman,serif\" font-size=\"14.00\">1</text>\n",
       "</g>\n",
       "<!-- 0&#45;&gt;1 -->\n",
       "<g id=\"edge1\" class=\"edge\">\n",
       "<title>0&#45;&gt;1</title>\n",
       "<path fill=\"none\" stroke=\"black\" d=\"M27,-265.41C27,-253.76 27,-238.05 27,-224.52\"/>\n",
       "<polygon fill=\"black\" stroke=\"black\" points=\"30.5,-224.86 27,-214.86 23.5,-224.86 30.5,-224.86\"/>\n",
       "<text text-anchor=\"middle\" x=\"33.75\" y=\"-234.2\" font-family=\"Times New Roman,serif\" font-size=\"14.00\">15</text>\n",
       "</g>\n",
       "<!-- 2 -->\n",
       "<g id=\"node4\" class=\"node\">\n",
       "<title>2</title>\n",
       "<ellipse fill=\"none\" stroke=\"black\" cx=\"27\" cy=\"-106.5\" rx=\"27\" ry=\"18\"/>\n",
       "<text text-anchor=\"middle\" x=\"27\" y=\"-101.45\" font-family=\"Times New Roman,serif\" font-size=\"14.00\">2</text>\n",
       "</g>\n",
       "<!-- 1&#45;&gt;2 -->\n",
       "<g id=\"edge2\" class=\"edge\">\n",
       "<title>1&#45;&gt;2</title>\n",
       "<path fill=\"none\" stroke=\"black\" d=\"M27,-176.91C27,-165.26 27,-149.55 27,-136.02\"/>\n",
       "<polygon fill=\"black\" stroke=\"black\" points=\"30.5,-136.36 27,-126.36 23.5,-136.36 30.5,-136.36\"/>\n",
       "<text text-anchor=\"middle\" x=\"30.38\" y=\"-145.7\" font-family=\"Times New Roman,serif\" font-size=\"14.00\">8</text>\n",
       "</g>\n",
       "<!-- 5 -->\n",
       "<g id=\"node3\" class=\"node\">\n",
       "<title>5</title>\n",
       "<ellipse fill=\"none\" stroke=\"black\" cx=\"27\" cy=\"-18\" rx=\"27\" ry=\"18\"/>\n",
       "<text text-anchor=\"middle\" x=\"27\" y=\"-12.95\" font-family=\"Times New Roman,serif\" font-size=\"14.00\">5</text>\n",
       "</g>\n",
       "<!-- 2&#45;&gt;5 -->\n",
       "<g id=\"edge3\" class=\"edge\">\n",
       "<title>2&#45;&gt;5</title>\n",
       "<path fill=\"none\" stroke=\"black\" d=\"M27,-88.41C27,-76.76 27,-61.05 27,-47.52\"/>\n",
       "<polygon fill=\"black\" stroke=\"black\" points=\"30.5,-47.86 27,-37.86 23.5,-47.86 30.5,-47.86\"/>\n",
       "<text text-anchor=\"middle\" x=\"33.75\" y=\"-57.2\" font-family=\"Times New Roman,serif\" font-size=\"14.00\">38</text>\n",
       "</g>\n",
       "</g>\n",
       "</svg>\n"
      ],
      "text/plain": [
       "<graphviz.graphs.Digraph at 0x20c57652fd0>"
      ]
     },
     "execution_count": 14,
     "metadata": {},
     "output_type": "execute_result"
    }
   ],
   "source": [
    "import graphviz\n",
    "def print_graph_dot(graph):\n",
    "    dot = graphviz.Digraph(engine=\"dot\")\n",
    "\n",
    "    nodes = set()\n",
    "    for u, v, _ in graph:\n",
    "        nodes.add(str(u))\n",
    "        nodes.add(str(v))\n",
    "\n",
    "    for node in nodes:\n",
    "        dot.node(node, label=node)\n",
    "\n",
    "    for u, v, w in graph:\n",
    "        u, v = str(u), str(v)\n",
    "        label = f\"{w}\"\n",
    "        dot.edge(u, v, label=label)\n",
    "\n",
    "    return dot\n",
    "    \n",
    "print_graph_dot(edges)"
   ]
  },
  {
   "cell_type": "markdown",
   "id": "c1551c90",
   "metadata": {},
   "source": [
    "#### Alocação de Funcionários"
   ]
  },
  {
   "cell_type": "markdown",
   "id": "fc4d84df",
   "metadata": {},
   "source": [
    "Um hospital trabalha com atendimento variiável em demanda durante as 24 horas do dia. As necessidades distrivuem-se segundo a tabela:\n",
    "\n",
    "\n",
    "| Turno |  Horário   | Enfermeiros necessários |\n",
    "| :---: | :--------: | :---------------------: |\n",
    "|   1   | 08h às 12h |           51            |\n",
    "|   2   | 12h às 16h |           58            |\n",
    "|   3   | 16h às 20h |           62            |\n",
    "|   4   | 20h às 24h |           41            |\n",
    "|   5   | 24h às 04h |           32            |\n",
    "|   6   | 04h às 08h |           19            |\n",
    "\n",
    "O horário de trabalho de um enfermeiro é de 8 horas seguidas e só pode ser iniciado no começo de cada turno, isto é, às 8 ou 12 ou 20 ou 24 ou 04 horas. Elabore um modelo PLI que minimize o gasto com a mão-de-obra. Considere que cada enfermeiro recebe R$100,00 por hora de trabalho no período diurno (08 às 20h) e R$125,00 no período noturno (20 às 08h)"
   ]
  },
  {
   "cell_type": "code",
   "execution_count": null,
   "id": "e495a209",
   "metadata": {},
   "outputs": [
    {
     "name": "stdout",
     "output_type": "stream",
     "text": [
      "X[0]: 51.0\n",
      "X[1]: 34.0\n",
      "X[2]: 28.0\n",
      "X[3]: 13.0\n",
      "X[4]: 19.0\n",
      "X[5]: 0.0\n",
      "valor otimo: 125200.0\n"
     ]
    }
   ],
   "source": [
    "from mip import Model, xsum, BINARY, INTEGER, OptimizationStatus\n",
    "\n",
    "# Entrada\n",
    "horas_turno = 4\n",
    "horas_trabalho = 8\n",
    "valor_diurno = 100\n",
    "valor_noturno = 125\n",
    "turnos = [\n",
    "  {\n",
    "    'entrada': 8,\n",
    "    'saida': 12,\n",
    "    'enfermeiros': 51,\n",
    "  },\n",
    "  {\n",
    "    'entrada': 12,\n",
    "    'saida': 16,\n",
    "    'enfermeiros': 58,\n",
    "  },\n",
    "  {\n",
    "    'entrada': 16,\n",
    "    'saida': 20,\n",
    "    'enfermeiros': 62,\n",
    "  },\n",
    "  {\n",
    "    'entrada': 20,\n",
    "    'saida': 24,\n",
    "    'enfermeiros': 41,\n",
    "  },\n",
    "  {\n",
    "    'entrada': 24,\n",
    "    'saida': 4,\n",
    "    'enfermeiros': 32,\n",
    "  },\n",
    "  {\n",
    "    'entrada': 4,\n",
    "    'saida': 8,\n",
    "    'enfermeiros': 19,\n",
    "  },\n",
    "]\n",
    "\n",
    "# Modelagem\n",
    "m = Model(\"Horários Enfermeiros\", sense='MIN', solver_name='CBC')\n",
    "\n",
    "#variáveis\n",
    "x = [m.add_var(var_type=INTEGER) for i in range(len(turnos))] #qtd de enfermeiros que entram no turno i\n",
    "\n",
    "#função objetivo\n",
    "\n",
    "m.objective = (((horas_trabalho * valor_diurno) * (x[0] + x[1])) \n",
    "               + ((horas_trabalho * valor_noturno) * (x[3] + x[4])) \n",
    "               + ((horas_turno * valor_diurno + horas_turno * valor_noturno) * (x[2] + x[5])))\n",
    "\n",
    "#restrições\n",
    "for i in range(len(turnos)):\n",
    "  j = 0 if i == len(turnos)-1 else i+1\n",
    "  m += x[i] + x[j] >= turnos[j]['enfermeiros']\n",
    "\n",
    "#resultado\n",
    "m.optimize()\n",
    "m.write('files/alocacao.lp')\n",
    "\n",
    "if m.status == OptimizationStatus.OPTIMAL:\n",
    "  for i in range(len(turnos)):\n",
    "    print(\"X[{}]: {}\".format(i, x[i].x))\n",
    "\n",
    "  print(\"valor otimo: {}\".format(m.objective_value))\n",
    "else:\n",
    "  print(\"Valor ótimo não identificado.\")"
   ]
  }
 ],
 "metadata": {
  "kernelspec": {
   "display_name": "Python 3",
   "language": "python",
   "name": "python3"
  },
  "language_info": {
   "codemirror_mode": {
    "name": "ipython",
    "version": 3
   },
   "file_extension": ".py",
   "mimetype": "text/x-python",
   "name": "python",
   "nbconvert_exporter": "python",
   "pygments_lexer": "ipython3",
   "version": "3.10.11"
  }
 },
 "nbformat": 4,
 "nbformat_minor": 5
}
